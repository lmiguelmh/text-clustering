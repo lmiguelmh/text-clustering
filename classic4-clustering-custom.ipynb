{
 "cells": [
  {
   "cell_type": "markdown",
   "metadata": {
    "collapsed": true
   },
   "source": [
    "Classic4 Clustering"
   ]
  },
  {
   "cell_type": "markdown",
   "metadata": {},
   "source": [
    "Downloading, unzipping and loading the classic4 database:"
   ]
  },
  {
   "cell_type": "code",
   "execution_count": 4,
   "metadata": {},
   "outputs": [
    {
     "name": "stdout",
     "output_type": "stream",
     "text": [
      "https://sites.google.com/site/xchgdir/public/classic.tar.gz?attredirects=0&d=1 was downloaded and extracted to C:\\Users\\khas.aiur\\scikit_learn_data\\classic_home\ndatabase was loaded into memory\ndatabase categories: ['cacm', 'cisi', 'cran', 'med']\n"
     ]
    }
   ],
   "source": [
    "import os\n",
    "import classicdb.fetch as fetch\n",
    "from nltk.corpus import CategorizedPlaintextCorpusReader\n",
    "\n",
    "url = fetch.URL\n",
    "data_home = fetch.get_data_home()\n",
    "classic_home = os.path.join(data_home, fetch.CLASSIC_HOME)\n",
    "print(\"download and extracting file from \" + url)\n",
    "fetch.download_and_unzip(url, classic_home, fetch.ARCHIVE_NAME)\n",
    "print(\"downloaded and extracted to \" + classic_home)\n",
    "\n",
    "corpus_root = os.path.join(classic_home, fetch.TRAIN_FOLDER)\n",
    "corpus_reader = CategorizedPlaintextCorpusReader(corpus_root, r'.*', cat_pattern=r'(\\w+)/*')\n",
    "print(\"database was loaded into memory\")\n",
    "\n",
    "cats = corpus_reader.categories()\n",
    "print(\"database categories: \" + str(cats))"
   ]
  },
  {
   "cell_type": "markdown",
   "metadata": {},
   "source": [
    "Using sklearn's TfidfVectorizer with default configuration:"
   ]
  },
  {
   "cell_type": "code",
   "execution_count": 28,
   "metadata": {},
   "outputs": [
    {
     "name": "stdout",
     "output_type": "stream",
     "text": [
      "done in 0.986859s\nm samples: 7095, n features: 24542\n\n"
     ]
    }
   ],
   "source": [
    "from time import time\n",
    "from sklearn.feature_extraction.text import TfidfVectorizer\n",
    "\n",
    "labels = [cat for cat in corpus_reader.categories() for fileid in corpus_reader.fileids(cat)]\n",
    "files = [corpus_reader.raw(fileid) for fileid in corpus_reader.fileids()]\n",
    "\n",
    "start = time()\n",
    "vectorizer = TfidfVectorizer(stop_words='english')\n",
    "X = vectorizer.fit_transform(files)\n",
    "print(\"done in %fs\" % (time() - start))\n",
    "print(\"m samples: %d, n features: %d\" % X.shape)\n",
    "print()\n",
    "\n",
    "# terms = vectorizer.get_feature_names()\n",
    "# print(\"some feature terms:\")\n",
    "# print(terms[0:100])\n",
    "# print()"
   ]
  },
  {
   "cell_type": "markdown",
   "metadata": {},
   "source": [
    "Using K-means for document clustering.\n",
    "\n",
    "The k-means problem is solved using Lloyd's algorithm. The average complexity is given by O(k n T), were n is the number of samples and T is the number of iteration.\n",
    "The worst case complexity is given by O(n^(k+2/p)) with n = n_samples, p = n_features. (D. Arthur and S. Vassilvitskii, 'How slow is the k-means method?' SoCG2006)\n",
    "In practice, the k-means algorithm is very fast (one of the fastest clustering algorithms available), but it falls in local minima. That's why it can be useful to restart it several times.\n",
    "\n",
    "Alternative online implementation that does incremental updates of the centers positions using mini-batches. For large scale learning (say n_samples > 10k) MiniBatchKMeans is probably much faster to than the default batch implementation.\n",
    "\n",
    "Performance Evaluation\n",
    "\n",
    "* __Homogeneity metric__ A clustering result satisfies homogeneity if all of its clusters contain only data points which are members of a single class. (Andrew Rosenberg and Julia Hirschberg, 2007. V-Measure: A conditional entropy-based external cluster evaluation measure)\n",
    "  - homogeneity_score([0, 0, 1, 1], [1, 1, 0, 0]) => 1.0 \n",
    "\n",
    "* "
   ]
  },
  {
   "cell_type": "code",
   "execution_count": 46,
   "metadata": {},
   "outputs": [
    {
     "name": "stdout",
     "output_type": "stream",
     "text": [
      "Document clustering with KMeans(copy_x=True, init='k-means++', max_iter=300, n_clusters=4, n_init=10,\n    n_jobs=1, precompute_distances='auto', random_state=None, tol=0.0001,\n    verbose=0)\n"
     ]
    },
    {
     "name": "stdout",
     "output_type": "stream",
     "text": [
      "done in 7.629s\n\ntrue labels vs cluster labels\n['cacm', 'cacm', 'cacm', 'cacm', 'cacm', 'cacm', 'cacm', 'cacm', 'cacm', 'cacm', 'cacm', 'cacm', 'cacm', 'cacm', 'cacm', 'cacm', 'cacm', 'cacm', 'cacm', 'cacm', 'cacm', 'cacm', 'cacm', 'cacm', 'cacm', 'cacm', 'cacm', 'cacm', 'cacm', 'cacm', 'cacm', 'cacm', 'cacm', 'cacm', 'cacm', 'cacm', 'cacm', 'cacm', 'cacm', 'cacm', 'cacm', 'cacm', 'cacm', 'cacm', 'cacm', 'cacm', 'cacm', 'cacm', 'cacm', 'cacm']\n[2 2 2 2 2 2 2 2 2 2 2 2 2 2 2 2 2 2 2 2 2 2 2 2 2 2 2 2 3 3 2 2 2 2 2 2 2\n 2 2 2 2 2 2 2 1 2 2 2 2 2]\n\nHomogeneity: 0.454\nCompleteness: 0.492\nV-measure: 0.472\nAdjusted Rand-Index: 0.276\n"
     ]
    },
    {
     "name": "stdout",
     "output_type": "stream",
     "text": [
      "Silhouette Coefficient: 0.009\n\n"
     ]
    }
   ],
   "source": [
    "from sklearn.cluster import KMeans\n",
    "from sklearn import metrics\n",
    "\n",
    "km = KMeans(n_clusters=len(corpus_reader.categories()),\n",
    "            init='k-means++',  # or 'random' (random centroids) \n",
    "            n_init=10,  # number of time the k-means algorithm will be run with different centroid seeds.    \n",
    "            max_iter=300\n",
    "            )\n",
    "\n",
    "print(\"Document clustering with %s\" % km)\n",
    "start = time()\n",
    "km.fit(X)\n",
    "print(\"done in %0.3fs\" % (time() - start))\n",
    "print()\n",
    "\n",
    "print(\"true labels vs cluster labels\")\n",
    "print(labels[0:50])\n",
    "print(km.labels_[0:50])\n",
    "print()\n",
    "\n",
    "print(\"Homogeneity: %0.3f\" % metrics.homogeneity_score(labels, km.labels_))\n",
    "print(\"Completeness: %0.3f\" % metrics.completeness_score(labels, km.labels_))\n",
    "print(\"V-measure: %0.3f\" % metrics.v_measure_score(labels, km.labels_))\n",
    "print(\"Adjusted Rand-Index: %.3f\" % metrics.adjusted_rand_score(labels, km.labels_))\n",
    "print(\"Silhouette Coefficient: %0.3f\" % metrics.silhouette_score(X, km.labels_, sample_size=1000))\n",
    "print()"
   ]
  },
  {
   "cell_type": "code",
   "execution_count": 80,
   "metadata": {},
   "outputs": [
    {
     "data": {
      "image/png": "[encoded data removed]",
      "text/plain": [
       "<matplotlib.figure.Figure at 0x22e41c8f8d0>"
      ]
     },
     "metadata": {},
     "output_type": "display_data"
    },
    {
     "data": {
      "image/png": "[encoded data removed]",
      "text/plain": [
       "<matplotlib.figure.Figure at 0x22e41c8fa58>"
      ]
     },
     "metadata": {},
     "output_type": "display_data"
    }
   ],
   "source": [
    "% matplotlib inline\n",
    "\n",
    "from numpy import arange\n",
    "from matplotlib import pyplot\n",
    "from random import randint\n",
    "\n",
    "def bar_chart(categories, words, counts, ylabel, title, colors='rgbcmyk', legendloc='upper left'):\n",
    "    ind = arange(len(words))\n",
    "    width = 1 / (len(categories) + 1)\n",
    "    bar_groups = []\n",
    "    for c in range(len(categories)):\n",
    "        bars = pyplot.bar(ind + c * width, counts[categories[c]], width, color=colors[c % len(colors)])\n",
    "        bar_groups.append(bars)\n",
    "    pyplot.xticks(ind + width, words)\n",
    "    pyplot.legend([b[0] for b in bar_groups], categories, loc=legendloc)\n",
    "    pyplot.ylabel(ylabel)\n",
    "    pyplot.title(title)\n",
    "    pyplot.show()\n",
    "\n",
    "clusters = np.unique(km.labels_)\n",
    "labels = [cat for cat in corpus_reader.categories() for fileid in corpus_reader.fileids(cat)]\n",
    "\n",
    "counts = {}\n",
    "for c in corpus_reader.categories():\n",
    "    counts[c] = len(clusters) * [0]\n",
    "for l, label in enumerate(km.labels_):\n",
    "    counts[labels[l]][label] += 1\n",
    "# print(counts)\n",
    "bar_chart(corpus_reader.categories(), clusters, counts, \"Frequency\", \"Composition of k-mean cluster\")\n",
    "\n",
    "counts = {}\n",
    "for i, c in enumerate(clusters[0:50]):\n",
    "    counts[c] = len(corpus_reader.categories()) * [0]\n",
    "label_ind = {}\n",
    "cnt = 0\n",
    "for cat in corpus_reader.categories():\n",
    "    label_ind[cat] = cnt\n",
    "    cnt +=1\n",
    "for l, label in enumerate(labels): \n",
    "    counts[km.labels_[l]][label_ind[label]] += 1\n",
    "# print(counts)\n",
    "bar_chart(clusters, corpus_reader.categories(), counts, \"Frequency\", \"Composition of category\", colors='mykw',legendloc='upper right')"
   ]
  },
  {
   "cell_type": "code",
   "execution_count": null,
   "metadata": {},
   "outputs": [],
   "source": [
    ""
   ]
  }
 ],
 "metadata": {
  "kernelspec": {
   "display_name": "Python 2",
   "language": "python",
   "name": "python2"
  },
  "language_info": {
   "codemirror_mode": {
    "name": "ipython",
    "version": 2.0
   },
   "file_extension": ".py",
   "mimetype": "text/x-python",
   "name": "python",
   "nbconvert_exporter": "python",
   "pygments_lexer": "ipython2",
   "version": "2.7.6"
  }
 },
 "nbformat": 4,
 "nbformat_minor": 0
}