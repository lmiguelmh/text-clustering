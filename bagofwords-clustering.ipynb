{
 "cells": [
  {
   "cell_type": "markdown",
   "metadata": {
    "collapsed": true
   },
   "source": [
    "## BAG OF WORDS DATABASE\n",
    "### KOS blog entries: orig source: dailykos.com "
   ]
  },
  {
   "cell_type": "markdown",
   "metadata": {},
   "source": [
    "### Descarga de la colección de textos preprocesada"
   ]
  },
  {
   "cell_type": "code",
   "execution_count": 2,
   "metadata": {},
   "outputs": [],
   "source": [
    "import os\n",
    "import classicdb.fetch as fetch\n",
    "\n",
    "url = \"https://sites.google.com/site/xchgdir/public/kos.tar.gz\"\n",
    "classic_home = os.path.join(fetch.get_data_home(), \"kos_home\")\n",
    "corpus_root = os.path.join(classic_home, \"kos\")"
   ]
  },
  {
   "cell_type": "code",
   "execution_count": 3,
   "metadata": {},
   "outputs": [
    {
     "name": "stdout",
     "output_type": "stream",
     "text": [
      "download and extracting file from https://sites.google.com/site/xchgdir/public/kos.tar.gz\n"
     ]
    },
    {
     "name": "stdout",
     "output_type": "stream",
     "text": [
      "downloaded and extracted to C:\\Users\\lmamani\\scikit_learn_data\\kos_home\n"
     ]
    }
   ],
   "source": [
    "print(\"download and extracting file from \" + url)\n",
    "fetch.download_and_unzip(url, classic_home, \"kos.tar.gz\")\n",
    "print(\"downloaded and extracted to \" + classic_home)"
   ]
  },
  {
   "cell_type": "markdown",
   "metadata": {},
   "source": [
    "### Parseo y carga en memoria"
   ]
  },
  {
   "cell_type": "code",
   "execution_count": 4,
   "metadata": {},
   "outputs": [
    {
     "name": "stdout",
     "output_type": "stream",
     "text": [
      "6906 words in vocabulary\n3430 documents\n"
     ]
    }
   ],
   "source": [
    "import os\n",
    "\n",
    "vocabfile = os.path.join(corpus_root, \"vocab.kos.txt\")\n",
    "docwordfile = os.path.join(corpus_root, \"docword.kos.txt\")\n",
    "\n",
    "with open(vocabfile, 'r') as f:\n",
    "    vocab = [line.strip() for line in f.readlines()]\n",
    "\n",
    "bagdicts = []\n",
    "with open(docwordfile, 'r') as f:\n",
    "    for line in f.readlines():\n",
    "        w = line.strip().split()\n",
    "        if len(w) == 3:\n",
    "            docid = int(w[0]) - 1\n",
    "            wordid = int(w[1]) - 1\n",
    "            wordcount = int(w[2])\n",
    "            if len(bagdicts) <= docid:\n",
    "                bagdicts.append({})  # add new dictionary\n",
    "            dict = bagdicts[docid]\n",
    "            dict[vocab[wordid]] = wordcount  # add new (vocab[wordid], count) into dictionary\n",
    "            # dict[wordid] = wordcount  # add new (wordid, count) into dictionary\n",
    "\n",
    "print(len(vocab), \"words in vocabulary\")\n",
    "print(len(bagdicts), \"documents\")"
   ]
  },
  {
   "cell_type": "markdown",
   "metadata": {},
   "source": [
    "### Conteo de tokens del corpus\n",
    "- Cada fila representa un documento y está en el orden leído del documento\n",
    "- Cada columna representa un término y ha sido reordenado (por el Dict)"
   ]
  },
  {
   "cell_type": "code",
   "execution_count": 5,
   "metadata": {},
   "outputs": [
    {
     "name": "stdout",
     "output_type": "stream",
     "text": [
      "cols = frequency by term, row = frequency by file\n[[ 0.  0.  0. ...,  0.  1.  0.]\n [ 0.  0.  0. ...,  0.  0.  0.]\n [ 0.  0.  0. ...,  0.  0.  0.]\n ..., \n [ 0.  0.  0. ...,  0.  0.  0.]\n [ 0.  0.  0. ...,  0.  0.  0.]\n [ 0.  0.  0. ...,  0.  0.  0.]]\n\nfile # 0 has 137 terms\nfile # 1 has 77 terms\nfile # 2 has 157 terms\n...\n\nSome feature terms\n['aarp', 'abandon', 'abandoned', 'abandoning', 'abb', 'abc', 'abcs', 'abdullah', 'ability', 'aboard', 'abortion', 'abortions', 'abraham', 'abrams', 'abroad', 'absence', 'absent', 'absentee', 'absolute', 'absolutely', 'abstain', 'absurd', 'abu', 'abuse', 'abuses', 'academy', 'accent', 'accept', 'acceptable', 'acceptance', 'accepted', 'accepting', 'access', 'accident', 'accidentally', 'accidents', 'accomplish', 'accomplished', 'accomplishment', 'account', 'accountability', 'accountable', 'accounting', 'accounts', 'accuracy', 'accurate', 'accurately', 'accusations', 'accused', 'accusing', 'achieve', 'achieved', 'achievements', 'acknowledge', 'acknowledged', 'aclu', 'act', 'actblue', 'acted', 'acting', 'action', 'actions', 'active', 'actively', 'activism', 'activist', 'activists', 'activities', 'activity', 'actor', 'acts', 'actual', 'adam', 'adams', 'add', 'added', 'adding', 'addition', 'additional', 'address', 'addressed', 'addresses', 'addressing', 'adds', 'adjust', 'adjusted', 'adjustments', 'admin', 'administration', 'administrations', 'administrative', 'administrator', 'admire', 'admission', 'admit', 'admits', 'admitted', 'admitting', 'ado', 'adopt']\n"
     ]
    }
   ],
   "source": [
    "import numpy as np\n",
    "from sklearn.feature_extraction import DictVectorizer\n",
    "\n",
    "vectorizer = DictVectorizer(sparse=False)\n",
    "count_matrix = vectorizer.fit_transform(bagdicts)\n",
    "print(\"cols = frequency by term, row = frequency by file\")\n",
    "print(count_matrix)\n",
    "print()\n",
    "\n",
    "for f in range(0, 3):\n",
    "    print(\"file #\", f, \"has\", int(np.sum(count_matrix[f])), \"terms\")\n",
    "print(\"...\")\n",
    "print()\n",
    "\n",
    "print(\"Some feature terms\")\n",
    "print(vectorizer.get_feature_names()[0:100])"
   ]
  },
  {
   "cell_type": "markdown",
   "metadata": {},
   "source": [
    "### Cálculo de matriz TFID"
   ]
  },
  {
   "cell_type": "code",
   "execution_count": 6,
   "metadata": {},
   "outputs": [
    {
     "name": "stdout",
     "output_type": "stream",
     "text": [
      "TFID matrix: (3430, 6906)\n[[ 0.          0.          0.         ...,  0.          0.08710494  0.        ]\n [ 0.          0.          0.         ...,  0.          0.          0.        ]\n [ 0.          0.          0.         ...,  0.          0.          0.        ]\n ..., \n [ 0.          0.          0.         ...,  0.          0.          0.        ]\n [ 0.          0.          0.         ...,  0.          0.          0.        ]\n [ 0.          0.          0.         ...,  0.          0.          0.        ]]\n\n"
     ]
    }
   ],
   "source": [
    "from sklearn.feature_extraction.text import TfidfTransformer\n",
    "\n",
    "transformer = TfidfTransformer()\n",
    "tfidf = transformer.fit_transform(count_matrix)\n",
    "\n",
    "print(\"TFID matrix:\", tfidf.shape)\n",
    "print(tfidf.toarray())\n",
    "print()\n",
    "\n",
    "# print(\"Weights of each feature computed by fit\")\n",
    "# print(transformer.idf_)"
   ]
  },
  {
   "cell_type": "markdown",
   "metadata": {},
   "source": [
    "### Clusterización y evaluación de la clusterización\n",
    "Clasificación de 2 a 50 clústeres, en cada uno se repite 10 veces la clusterización.\n",
    "- 10, 21, 7, 15 y 9 los #5 clústeres que presentan el mejor s-score\n",
    "- 2, 3 y 4 clústeres presentan variación mínima en el s-score"
   ]
  },
  {
   "cell_type": "code",
   "execution_count": 15,
   "metadata": {},
   "outputs": [
    {
     "data": {
      "image/png": "[encoded data removed]",
      "text/plain": [
       "<matplotlib.figure.Figure at 0x9ab3b00>"
      ]
     },
     "metadata": {},
     "output_type": "display_data"
    }
   ],
   "source": [
    "from sklearn.cluster import KMeans\n",
    "from sklearn import metrics\n",
    "import matplotlib.pyplot as plt\n",
    "\n",
    "% matplotlib inline\n",
    "\n",
    "x = []\n",
    "y = []\n",
    "yerr = []\n",
    "\n",
    "for n_clusters in range(2, 51, 1):\n",
    "    km = KMeans(\n",
    "        n_clusters=n_clusters,\n",
    "        init='k-means++',  # or 'random'  \n",
    "        n_init=1,  # repetition of the process to choose the best\n",
    "        max_iter=100  # iterations for kmeans\n",
    "    )\n",
    "    \n",
    "    sscore = []\n",
    "    for i in range(1, 10):\n",
    "        km.fit(tfidf)\n",
    "        sscore.append(metrics.silhouette_score(tfidf, km.labels_))\n",
    "    \n",
    "    x.append(n_clusters)\n",
    "    y.append(np.median(sscore))\n",
    "    yerr.append(np.std(sscore))\n",
    "\n",
    "plt.figure(figsize=(12, 6))\n",
    "plt.xlabel('Number of clusters')\n",
    "plt.ylabel('Silhouette score value')\n",
    "plt.errorbar(x, y, yerr=yerr, fmt='-o', ecolor='g', color='g')\n",
    "plt.xlim(xmin=1, xmax=51)\n",
    "plt.ylim(ymin=0, ymax=0.040)\n",
    "plt.show()"
   ]
  },
  {
   "cell_type": "code",
   "execution_count": 16,
   "metadata": {},
   "outputs": [
    {
     "name": "stdout",
     "output_type": "stream",
     "text": [
      "2 \t 0.0190743565792 \t 0.0\n3 \t 0.02324056488 \t 4.16648616608e-06\n4 \t 0.0253310745076 \t 0.000538742678941\n5 \t 0.0263202140122 \t 0.000266222143283\n6 \t 0.026769260356 \t 0.000770307457046\n7 \t 0.0272521022281 \t 0.00148287319871\n8 \t 0.0276697535109 \t 0.00434488611273\n9 \t 0.0271413782831 \t 0.00594472721928\n10 \t 0.026090995065 \t 0.00567452045779\n11 \t 0.024934376114 \t 0.00607792927016\n12 \t 0.026763783359 \t 0.00550448976143\n13 \t 0.0263651671887 \t 0.00567546722879\n14 \t 0.0264476247016 \t 0.00647462361814\n15 \t 0.0257732207956 \t 0.00741273128293\n16 \t 0.025586154174 \t 0.00723777625177\n17 \t 0.0153402085248 \t 0.00586652450744\n18 \t 0.0170175070241 \t 0.00661247505153\n19 \t 0.0149415675895 \t 0.00636827443661\n20 \t 0.0141846043254 \t 0.00559473526154\n21 \t 0.0159078107314 \t 0.00612846024641\n22 \t 0.016926964947 \t 0.00496403958676\n23 \t 0.0155094076308 \t 0.00141726738741\n24 \t 0.0183791131525 \t 0.00551112767074\n25 \t 0.015790708479 \t 0.00561343369359\n26 \t 0.0174976446072 \t 0.00627563955228\n27 \t 0.0162267527856 \t 0.00107189065962\n28 \t 0.0162762077712 \t 0.00562595993422\n29 \t 0.0165521501878 \t 0.00349986540148\n30 \t 0.016054943654 \t 0.00422518220743\n31 \t 0.0173338093732 \t 0.00524250228854\n32 \t 0.0162427256722 \t 0.00567711178993\n33 \t 0.0169111400851 \t 0.00216840585778\n34 \t 0.0179809671563 \t 0.00369800214732\n35 \t 0.0171144319049 \t 0.0014451017946\n36 \t 0.0173305869798 \t 0.00116133342161\n37 \t 0.0177958731611 \t 0.00138244386559\n38 \t 0.0175083023115 \t 0.00568325895553\n39 \t 0.018282621144 \t 0.000587431301276\n40 \t 0.0181215934611 \t 0.000787607322509\n41 \t 0.0185074591439 \t 0.00576550425647\n42 \t 0.0173878646088 \t 0.00125311982731\n43 \t 0.0192225067547 \t 0.00149925674022\n44 \t 0.0187825602238 \t 0.00409313901179\n45 \t 0.019277247095 \t 0.00100703064064\n46 \t 0.0191381943698 \t 0.00131734430517\n47 \t 0.0196570571583 \t 0.00264972184742\n48 \t 0.0189312664059 \t 0.00165403184476\n49 \t 0.0192038588747 \t 0.00126214257126\n50 \t 0.0193937170765 \t 0.00059636859763\n"
     ]
    }
   ],
   "source": [
    "for i, ye in enumerate(yerr):\n",
    "    print(x[i], \"\\t\", y[i], \"\\t\", yerr[i])"
   ]
  },
  {
   "cell_type": "markdown",
   "metadata": {},
   "source": [
    "### Más clusters"
   ]
  },
  {
   "cell_type": "code",
   "execution_count": 22,
   "metadata": {},
   "outputs": [
    {
     "data": {
      "image/png": "[encoded data removed]",
      "text/plain": [
       "<matplotlib.figure.Figure at 0x9ab3f60>"
      ]
     },
     "metadata": {},
     "output_type": "display_data"
    }
   ],
   "source": [
    "from sklearn.cluster import KMeans\n",
    "from sklearn import metrics\n",
    "import matplotlib.pyplot as plt\n",
    "\n",
    "% matplotlib inline\n",
    "\n",
    "x = []\n",
    "y = []\n",
    "yerr = []\n",
    "\n",
    "for n_clusters in range(10, 105, 5):\n",
    "    km = KMeans(\n",
    "        n_clusters=n_clusters,\n",
    "        init='k-means++',  # or 'random'  \n",
    "        n_init=1,  # repetition of the process to choose the best\n",
    "        max_iter=100  # iterations for kmeans\n",
    "    )\n",
    "    \n",
    "    sscore = []\n",
    "    for i in range(1, 11):\n",
    "        km.fit(tfidf)\n",
    "        sscore.append(metrics.silhouette_score(tfidf, km.labels_))\n",
    "    \n",
    "    x.append(n_clusters)\n",
    "    y.append(np.median(sscore))\n",
    "    yerr.append(np.std(sscore))\n",
    "\n",
    "plt.figure(figsize=(12, 6))\n",
    "plt.xlabel('Number of clusters')\n",
    "plt.ylabel('Silhouette score value')\n",
    "plt.errorbar(x, y, yerr=yerr, fmt='-o', ecolor='g', color='g')\n",
    "plt.xlim(xmin=5, xmax=105)\n",
    "# plt.ylim(ymin=0, ymax=0.040)\n",
    "plt.show()"
   ]
  },
  {
   "cell_type": "code",
   "execution_count": 23,
   "metadata": {},
   "outputs": [
    {
     "data": {
      "image/png": "[encoded data removed]",
      "text/plain": [
       "<matplotlib.figure.Figure at 0x80d8278>"
      ]
     },
     "metadata": {},
     "output_type": "display_data"
    }
   ],
   "source": [
    "from sklearn.cluster import KMeans\n",
    "from sklearn import metrics\n",
    "import matplotlib.pyplot as plt\n",
    "\n",
    "% matplotlib inline\n",
    "\n",
    "x = []\n",
    "y = []\n",
    "yerr = []\n",
    "\n",
    "for n_clusters in range(10, 210, 10):\n",
    "    km = KMeans(\n",
    "        n_clusters=n_clusters,\n",
    "        init='k-means++',  # or 'random'  \n",
    "        n_init=1,  # repetition of the process to choose the best\n",
    "        max_iter=100  # iterations for kmeans\n",
    "    )\n",
    "    \n",
    "    sscore = []\n",
    "    for i in range(1, 11):\n",
    "        km.fit(tfidf)\n",
    "        sscore.append(metrics.silhouette_score(tfidf, km.labels_))\n",
    "    \n",
    "    x.append(n_clusters)\n",
    "    y.append(np.median(sscore))\n",
    "    yerr.append(np.std(sscore))\n",
    "\n",
    "plt.figure(figsize=(12, 6))\n",
    "plt.xlabel('Number of clusters')\n",
    "plt.ylabel('Silhouette score value')\n",
    "plt.errorbar(x, y, yerr=yerr, fmt='-o', ecolor='g', color='g')\n",
    "plt.xlim(xmin=0, xmax=210)\n",
    "# plt.ylim(ymin=0, ymax=0.040)\n",
    "plt.show()"
   ]
  },
  {
   "cell_type": "markdown",
   "metadata": {},
   "source": [
    "#### 8 clústers"
   ]
  },
  {
   "cell_type": "code",
   "execution_count": 19,
   "metadata": {},
   "outputs": [
    {
     "name": "stdout",
     "output_type": "stream",
     "text": [
      "Top terms per cluster:\nCluster 0: carson coburn senate specter toomey oklahoma knowles bunning murkowski race\nCluster 1: party house republican democratic elections senate republicans campaign democrats state\nCluster 2: iraq war iraqi military soldiers troops baghdad american killed forces\nCluster 3: dean clark edwards kerry lieberman gephardt primary poll iowa democratic\nCluster 4: november voting account electoral governor vote senate republicans house polls\nCluster 5: bush administration president cheney iraq bushs white war house people\nCluster 6: november account electoral turnout governor duderino parecommend poll polls trouble\nCluster 7: kerry bush poll voters percent general polls campaign president kerrys\n"
     ]
    }
   ],
   "source": [
    "from sklearn.cluster import KMeans\n",
    "\n",
    "n_clusters = 8\n",
    "km = KMeans(\n",
    "    n_clusters=n_clusters,\n",
    "    init='k-means++',  # or 'random'  \n",
    "    n_init=10,  # repetition of the process to choose the best\n",
    "    max_iter=100  # iterations for kmeans\n",
    ")\n",
    "\n",
    "km.fit(tfidf)\n",
    "\n",
    "print(\"Top terms per cluster:\")\n",
    "order_centroids = km.cluster_centers_.argsort()[:, ::-1]\n",
    "for i in range(n_clusters):\n",
    "    print(\"Cluster %d:\" % i, end='')\n",
    "    for ind in order_centroids[i, :10]:\n",
    "        print(' %s' % vectorizer.get_feature_names()[ind], end='')\n",
    "    print()"
   ]
  },
  {
   "cell_type": "markdown",
   "metadata": {},
   "source": [
    "#### 7 clústers"
   ]
  },
  {
   "cell_type": "code",
   "execution_count": 20,
   "metadata": {},
   "outputs": [
    {
     "name": "stdout",
     "output_type": "stream",
     "text": [
      "Top terms per cluster:\nCluster 0: party senate house republican elections democratic campaign race democrats republicans\nCluster 1: dean clark edwards kerry lieberman gephardt primary poll iowa democratic\nCluster 2: kerry bush poll percent voters polls general results nader polling\nCluster 3: november account electoral turnout governor parecommend duderino poll polls trouble\nCluster 4: bush administration president cheney kerry bushs iraq war campaign white\nCluster 5: november voting account electoral governor vote senate republicans house polls\nCluster 6: iraq war iraqi military bush troops soldiers baghdad american killed\n"
     ]
    }
   ],
   "source": [
    "from sklearn.cluster import KMeans\n",
    "\n",
    "n_clusters = 7\n",
    "km = KMeans(\n",
    "    n_clusters=n_clusters,\n",
    "    init='k-means++',  # or 'random'  \n",
    "    n_init=10,  # repetition of the process to choose the best\n",
    "    max_iter=100  # iterations for kmeans\n",
    ")\n",
    "\n",
    "km.fit(tfidf)\n",
    "\n",
    "print(\"Top terms per cluster:\")\n",
    "order_centroids = km.cluster_centers_.argsort()[:, ::-1]\n",
    "for i in range(n_clusters):\n",
    "    print(\"Cluster %d:\" % i, end='')\n",
    "    for ind in order_centroids[i, :10]:\n",
    "        print(' %s' % vectorizer.get_feature_names()[ind], end='')\n",
    "    print()"
   ]
  },
  {
   "cell_type": "markdown",
   "metadata": {},
   "source": [
    "#### 9 clústers"
   ]
  },
  {
   "cell_type": "code",
   "execution_count": 21,
   "metadata": {},
   "outputs": [
    {
     "name": "stdout",
     "output_type": "stream",
     "text": [
      "Top terms per cluster:\nCluster 0: million donors money raised campaign candidates fundraising dkos dnc dozen\nCluster 1: november account electoral turnout governor parecommend duderino poll polls trouble\nCluster 2: senate house elections republican race seat district delay party gop\nCluster 3: bush people general party time media republicans campaign president democratic\nCluster 4: kerry bush poll percent voters polls general nader results polling\nCluster 5: dean clark edwards kerry lieberman gephardt primary poll iowa democratic\nCluster 6: november voting account electoral governor vote senate republicans house polls\nCluster 7: iraq bush war administration iraqi military american troops president intelligence\nCluster 8: kerry cheney bush john president campaign kerrys general news debate\n"
     ]
    }
   ],
   "source": [
    "from sklearn.cluster import KMeans\n",
    "\n",
    "n_clusters = 9\n",
    "km = KMeans(\n",
    "    n_clusters=n_clusters,\n",
    "    init='k-means++',  # or 'random'  \n",
    "    n_init=10,  # repetition of the process to choose the best\n",
    "    max_iter=100  # iterations for kmeans\n",
    ")\n",
    "\n",
    "km.fit(tfidf)\n",
    "\n",
    "print(\"Top terms per cluster:\")\n",
    "order_centroids = km.cluster_centers_.argsort()[:, ::-1]\n",
    "for i in range(n_clusters):\n",
    "    print(\"Cluster %d:\" % i, end='')\n",
    "    for ind in order_centroids[i, :10]:\n",
    "        print(' %s' % vectorizer.get_feature_names()[ind], end='')\n",
    "    print()"
   ]
  },
  {
   "cell_type": "markdown",
   "metadata": {},
   "source": [
    "### Dendogram "
   ]
  },
  {
   "cell_type": "code",
   "execution_count": 1,
   "metadata": {},
   "outputs": [],
   "source": [
    "% matplotlib inline\n",
    "\n",
    "from matplotlib import pyplot as plt\n",
    "from sklearn.metrics.pairwise import cosine_similarity\n",
    "from scipy.cluster.hierarchy import ward, dendrogram\n",
    "\n",
    "dist = 1 - cosine_similarity(tfidf)\n",
    "linkage_matrix = ward(dist)\n",
    "\n",
    "fig, ax = plt.subplots(figsize=(8, 30))\n",
    "ax = dendrogram(linkage_matrix, orientation=\"right\")\n",
    "plt.tick_params(\n",
    "    axis='x',  # changes apply to the x-axis\n",
    "    which='both',  # both major and minor ticks are affected\n",
    "    bottom='off',  # ticks along the bottom edge are off\n",
    "    top='off',  # ticks along the top edge are off\n",
    "    labelbottom='off')\n",
    "\n",
    "plt.tight_layout()  #show plot with tight layout"
   ]
  }
 ],
 "metadata": {
  "kernelspec": {
   "display_name": "Python 2",
   "language": "python",
   "name": "python2"
  },
  "language_info": {
   "codemirror_mode": {
    "name": "ipython",
    "version": 2.0
   },
   "file_extension": ".py",
   "mimetype": "text/x-python",
   "name": "python",
   "nbconvert_exporter": "python",
   "pygments_lexer": "ipython2",
   "version": "2.7.6"
  }
 },
 "nbformat": 4,
 "nbformat_minor": 0
}